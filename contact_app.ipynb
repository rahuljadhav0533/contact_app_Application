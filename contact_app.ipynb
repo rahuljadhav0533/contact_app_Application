{
  "cells": [
    {
      "cell_type": "markdown",
      "metadata": {
        "id": "view-in-github",
        "colab_type": "text"
      },
      "source": [
        "<a href=\"https://colab.research.google.com/github/rahuljadhav0533/contact_app_Application/blob/main/contact_app.ipynb\" target=\"_parent\"><img src=\"https://colab.research.google.com/assets/colab-badge.svg\" alt=\"Open In Colab\"/></a>"
      ]
    },
    {
      "cell_type": "markdown",
      "metadata": {
        "id": "lP8OPyK5Dlsy"
      },
      "source": [
        "# Contact app\n",
        "\n",
        "You have learnt a lot of new things; data structures, string, regex & files. Lets use all our newly acquired knowledge to build a **contact app**, just like the ones in our smartphone.\n",
        "\n",
        "We will not be building a fancy UI, instead we will focus on understanding the programming logic.\n",
        "\n",
        "Lets get started!\n",
        "\n",
        "Think of all the features that your contact app has . . . !\n",
        "- It can show you all the contact names\n",
        "- You can search for contacts (using name)\n",
        "- You can see all the information associated with the contact\n",
        "- You can delete and update contacts\n",
        "\n",
        "Can you think of anything more ? Our contact app should have at least these features.\n",
        "- The app should show us all the contact names\n",
        "- It should allow us to select a contact and view all the information associated with the contact\n",
        "- It should allow us to update contact info & delete contact\n",
        "- Finally, it should show us all the contact names\n",
        "\n",
        "For every contact, we will store the `name`, `number` & `email`."
      ]
    },
    {
      "cell_type": "markdown",
      "metadata": {
        "id": "tj_AkvTFDls1"
      },
      "source": [
        "### Data Structure\n",
        "The very first thing that we need to decide is \"What data structure to use?\"\n",
        "\n",
        "To store all the contacts, we can use a list of dictionaries; were each dictionary stores the `name`, `number` & `email`  of the contact.\n",
        "\n",
        "Create a list of dictionaries called `contacts` with 3 dummy contacts.  "
      ]
    },
    {
      "cell_type": "code",
      "execution_count": null,
      "metadata": {
        "id": "2inyeu8nDls2"
      },
      "outputs": [],
      "source": [
        "## your code here\n",
        "contacts = [\n",
        "    {\"Name\":'Rahul','Number':234567890,'Email':\"rahul@gmail.com\"},\n",
        "    {\"Name\" : \"shubham\",\"Number\":9876543132,\"Email\":\"shubh@gmail.com\"},\n",
        "    {\"Name\" :\"Akash\",\"Number\":234567890,\"Email\":\"akash@gmail.com\"}\n",
        "]"
      ]
    },
    {
      "cell_type": "markdown",
      "metadata": {
        "id": "w1rjnMbNDls4"
      },
      "source": [
        "### List all contact names\n",
        "Write `show_contacts` function that takes the `contacts` list and prints all the contact names. These names will help us to select the contact later."
      ]
    },
    {
      "cell_type": "code",
      "execution_count": null,
      "metadata": {
        "id": "NHAzx2l_Dls5"
      },
      "outputs": [],
      "source": [
        "def show_contacts(contacts):\n",
        "    ## your code hereo\n",
        "    for name in contacts:\n",
        "      print(name[\"Name\"])\n"
      ]
    },
    {
      "cell_type": "code",
      "execution_count": null,
      "metadata": {
        "id": "jwMSCWz4Dls6",
        "colab": {
          "base_uri": "https://localhost:8080/"
        },
        "outputId": "74ecb18a-2acb-4382-e58b-91b0738abffe"
      },
      "outputs": [
        {
          "output_type": "stream",
          "name": "stdout",
          "text": [
            "Rahul\n",
            "shubham\n",
            "Akash\n"
          ]
        }
      ],
      "source": [
        "show_contacts(contacts)"
      ]
    },
    {
      "cell_type": "markdown",
      "metadata": {
        "id": "_Tf5ax1YDls6"
      },
      "source": [
        "### Add a new Contact\n",
        "\n",
        "Write `add_contact` function that takes user input and *adds new contact* dictionary to the existing list of `contacts`."
      ]
    },
    {
      "cell_type": "code",
      "execution_count": null,
      "metadata": {
        "id": "rGs5S0gJDls7"
      },
      "outputs": [],
      "source": [
        "def add_contact(contacts):\n",
        "    n = input(\"Enter The Name::\")\n",
        "    num = int(input(\"Enter Contact Number\"))\n",
        "    em = input(\"Enter Email id:\")\n",
        "    a = {\"Name\":n,'Number':num,'Email':em}\n",
        "    contacts.append(a)\n",
        "    return contacts\n",
        "\n"
      ]
    },
    {
      "cell_type": "code",
      "execution_count": null,
      "metadata": {
        "id": "FOcm0b8XDls7",
        "colab": {
          "base_uri": "https://localhost:8080/"
        },
        "outputId": "d8339cf0-d2fc-4249-cfaf-9925c78de6f2"
      },
      "outputs": [
        {
          "name": "stdout",
          "output_type": "stream",
          "text": [
            "Enter The Name::Mauli\n",
            "Enter Contact Number345678909876\n",
            "Enter Email id:mauli@gmail.com\n"
          ]
        },
        {
          "output_type": "execute_result",
          "data": {
            "text/plain": [
              "[{'Name': 'Rahul', 'Number': 234567890, 'Email': 'rahul@gmail.com'},\n",
              " {'Name': 'shubham', 'Number': 9876543132, 'Email': 'shubh@gmail.com'},\n",
              " {'Name': 'Akash', 'Number': 234567890, 'Email': 'akash@gmail.com'},\n",
              " {'Name': 'Mauli', 'Number': 345678909876, 'Email': 'mauli@gmail.com'}]"
            ]
          },
          "metadata": {},
          "execution_count": 6
        }
      ],
      "source": [
        "add_contact(contacts)\n"
      ]
    },
    {
      "cell_type": "markdown",
      "metadata": {
        "id": "uam6BzHdDls7"
      },
      "source": [
        "### Delete Contact\n",
        "\n",
        "Write `delete_contact` function to delete an existing contact by providing `name` of the contact which we want to delete."
      ]
    },
    {
      "cell_type": "code",
      "execution_count": null,
      "metadata": {
        "id": "FE6LKIgADls8"
      },
      "outputs": [],
      "source": [
        "def delete_contact(contacts, name):\n",
        "    ## your code here\n",
        "    for i in contacts:\n",
        "      if i[\"Name\"] == name:\n",
        "\n",
        "        contacts.remove(i)\n",
        "    return contacts\n",
        "\n",
        "\n"
      ]
    },
    {
      "cell_type": "code",
      "execution_count": null,
      "metadata": {
        "id": "U5UafPqIDls8",
        "colab": {
          "base_uri": "https://localhost:8080/"
        },
        "outputId": "50df4114-0fa2-427b-85c7-ade6242c5639"
      },
      "outputs": [
        {
          "output_type": "execute_result",
          "data": {
            "text/plain": [
              "[{'Name': 'Rahul', 'Number': 234567890, 'Email': 'rahul@gmail.com'},\n",
              " {'Name': 'shubham', 'Number': 9876543132, 'Email': 'shubh@gmail.com'},\n",
              " {'Name': 'Akash', 'Number': 234567890, 'Email': 'akash@gmail.com'},\n",
              " {'Name': 'Mauli', 'Number': 345678909876, 'Email': 'mauli@gmail.com'}]"
            ]
          },
          "metadata": {},
          "execution_count": 8
        }
      ],
      "source": [
        "delete_contact(contacts, \"dfg\")"
      ]
    },
    {
      "cell_type": "markdown",
      "metadata": {
        "id": "kbbMMVmPDls9"
      },
      "source": [
        "### Update Contact details\n",
        "\n",
        "Let's write `update_contact` function which will *update contact details* such as `name`, `email` & `number`.\n",
        "The functions should take `contacts` and `name` as arguments. It should also print the newly added contact."
      ]
    },
    {
      "cell_type": "code",
      "execution_count": null,
      "metadata": {
        "id": "onCJiB3zDls9"
      },
      "outputs": [],
      "source": [
        "def update_contact(contacts, name):\n",
        "    ## your code here\n",
        "    n = input(\"Enter The Name::\")\n",
        "    num = int(input(\"Enter Contact Number\"))\n",
        "    em = input(\"Enter Email id:\")\n",
        "    b = contacts.append({\"name\":n,\"Number\":num,\"Email\":em})\n",
        "    print(b)\n",
        "    return contacts"
      ]
    },
    {
      "cell_type": "code",
      "execution_count": null,
      "metadata": {
        "id": "0_LulDIeDls9",
        "colab": {
          "base_uri": "https://localhost:8080/"
        },
        "outputId": "321e78c7-f3ef-494d-9ff2-dd9196d1d6a7"
      },
      "outputs": [
        {
          "output_type": "stream",
          "name": "stdout",
          "text": [
            "Enter The Name::Rahul\n",
            "Enter Contact Number9022782689\n",
            "Enter Email id:rahul@gmail.com\n",
            "None\n"
          ]
        },
        {
          "output_type": "execute_result",
          "data": {
            "text/plain": [
              "[{'Name': 'Rahul', 'Number': 234567890, 'Email': 'rahul@gmail.com'},\n",
              " {'Name': 'shubham', 'Number': 9876543132, 'Email': 'shubh@gmail.com'},\n",
              " {'Name': 'Akash', 'Number': 234567890, 'Email': 'akash@gmail.com'},\n",
              " {'Name': 'Mauli', 'Number': 345678909876, 'Email': 'mauli@gmail.com'},\n",
              " {'name': 'Rahul', 'Number': 9022782689, 'Email': 'rahul@gmail.com'}]"
            ]
          },
          "metadata": {},
          "execution_count": 10
        }
      ],
      "source": [
        "update_contact(contacts, \"Ranveer\")"
      ]
    },
    {
      "cell_type": "markdown",
      "metadata": {
        "id": "ZcWHYoxVDls-"
      },
      "source": [
        "### Open Contact\n",
        "`open_contact` function takes the `contacts` list and a `name` string as input. It prints the contact details if `name` matches some contact name in the `contacts` list, else prints `No match found!`.\n",
        "\n",
        "**Note:** The functions should be case insensitive."
      ]
    },
    {
      "cell_type": "code",
      "execution_count": null,
      "metadata": {
        "id": "O-donO9fDls-"
      },
      "outputs": [],
      "source": [
        "def open_contact(contacts):\n",
        "    ## your code here\n",
        "    name = input(\"Enter the name:\")\n",
        "    for i in contacts:\n",
        "     if i['Name'] == name:\n",
        "        return i\n",
        "    else:\n",
        "      print(\"No match found!\")\n"
      ]
    },
    {
      "cell_type": "code",
      "execution_count": null,
      "metadata": {
        "id": "VdT51Cx6Dls_",
        "colab": {
          "base_uri": "https://localhost:8080/"
        },
        "outputId": "a468ddc3-5aee-4d71-a5d7-a4eaccd9ae1c"
      },
      "outputs": [
        {
          "name": "stdout",
          "output_type": "stream",
          "text": [
            "Enter the name:Rahul\n"
          ]
        },
        {
          "output_type": "execute_result",
          "data": {
            "text/plain": [
              "{'Name': 'Rahul', 'Number': 234567890, 'Email': 'rahul@gmail.com'}"
            ]
          },
          "metadata": {},
          "execution_count": 12
        }
      ],
      "source": [
        "open_contact(contacts)"
      ]
    },
    {
      "cell_type": "markdown",
      "metadata": {
        "id": "QWp4PJezDls_"
      },
      "source": [
        "We often see *update* & *delete* options after we open a particular contact. It would be great if we can also implement the same.\n",
        "\n",
        "After opening the contact, the program should wait for user input. The user can press `u` to update & `d` delete contact. Any other key press should be ignored\n",
        "\n",
        "Write the updated `open_contact` function below"
      ]
    },
    {
      "cell_type": "code",
      "execution_count": null,
      "metadata": {
        "id": "E5cEVuKQDls_"
      },
      "outputs": [],
      "source": [
        "def open_contact(contacts,name):\n",
        "    ## your code here\n",
        "    u = input('u ')\n",
        "    if u ==\"u\":\n",
        "      update_contact(contacts,name)\n",
        "    else:\n",
        "      delete_contact(contacts,name)\n",
        "\n",
        "    return contacts"
      ]
    },
    {
      "cell_type": "code",
      "execution_count": null,
      "metadata": {
        "id": "hH5LDx06Dls_",
        "colab": {
          "base_uri": "https://localhost:8080/"
        },
        "outputId": "a17184a0-ccaa-4302-993a-ababfc6bb095"
      },
      "outputs": [
        {
          "output_type": "stream",
          "name": "stdout",
          "text": [
            "u\n",
            "Enter The Name::Rahul12@gmail.com\n",
            "Enter Contact Number9022782689\n",
            "Enter Email id:rahul@12@gmail.com\n",
            "None\n"
          ]
        },
        {
          "output_type": "execute_result",
          "data": {
            "text/plain": [
              "[{'Name': 'Rahul', 'Number': 234567890, 'Email': 'rahul@gmail.com'},\n",
              " {'Name': 'shubham', 'Number': 9876543132, 'Email': 'shubh@gmail.com'},\n",
              " {'Name': 'Akash', 'Number': 234567890, 'Email': 'akash@gmail.com'},\n",
              " {'Name': 'Mauli', 'Number': 345678909876, 'Email': 'mauli@gmail.com'},\n",
              " {'name': 'Rahul', 'Number': 9022782689, 'Email': 'rahul@gmail.com'},\n",
              " {'name': 'Rahul12@gmail.com',\n",
              "  'Number': 9022782689,\n",
              "  'Email': 'rahul@12@gmail.com'}]"
            ]
          },
          "metadata": {},
          "execution_count": 14
        }
      ],
      "source": [
        "open_contact(contacts,'Rahul')"
      ]
    },
    {
      "cell_type": "markdown",
      "metadata": {
        "id": "S-Lyg-19Dls_"
      },
      "source": [
        "### Complete application (using all the above functions in use)\n",
        "\n",
        "We will use an infinite loop to encapsulate our application logic and break only when `q` is pressed. We will use `clear_output()` function from `IPython.display` to clear the output before printing anything new.\n",
        "\n",
        "Below is the pseudo-code to help you build the application logic."
      ]
    },
    {
      "cell_type": "code",
      "execution_count": null,
      "metadata": {
        "id": "FZAnyjMaDltA",
        "colab": {
          "base_uri": "https://localhost:8080/",
          "height": 474
        },
        "outputId": "59d18020-2755-4d94-8571-cb0f7cb585ae"
      },
      "outputs": [
        {
          "output_type": "stream",
          "name": "stdout",
          "text": [
            "Press 'a' - add contact, 'o' - open contact, 's' - search contact, 'q' - quits\n",
            "incorrect choice\n",
            "Press 'a' - add contact, 'o' - open contact, 's' - search contact, 'q' - quits\n",
            "incorrect choice\n",
            "Press 'a' - add contact, 'o' - open contact, 's' - search contact, 'q' - quits\n",
            "incorrect choice\n"
          ]
        },
        {
          "output_type": "error",
          "ename": "KeyboardInterrupt",
          "evalue": "Interrupted by user",
          "traceback": [
            "\u001b[0;31m---------------------------------------------------------------------------\u001b[0m",
            "\u001b[0;31mKeyboardInterrupt\u001b[0m                         Traceback (most recent call last)",
            "\u001b[0;32m/tmp/ipython-input-1938598086.py\u001b[0m in \u001b[0;36m<cell line: 0>\u001b[0;34m()\u001b[0m\n\u001b[1;32m     10\u001b[0m     ]\n\u001b[1;32m     11\u001b[0m \u001b[0;34m\u001b[0m\u001b[0m\n\u001b[0;32m---> 12\u001b[0;31m     \u001b[0maction\u001b[0m \u001b[0;34m=\u001b[0m \u001b[0minput\u001b[0m\u001b[0;34m(\u001b[0m\u001b[0;34m\"Press 'a' - add contact, 'o' - open contact, 's' - search contact, 'q' - quit\"\u001b[0m\u001b[0;34m)\u001b[0m\u001b[0;34m\u001b[0m\u001b[0;34m\u001b[0m\u001b[0m\n\u001b[0m\u001b[1;32m     13\u001b[0m     \u001b[0;32mif\u001b[0m \u001b[0maction\u001b[0m \u001b[0;34m==\u001b[0m \u001b[0;34m'a'\u001b[0m\u001b[0;34m:\u001b[0m\u001b[0;34m\u001b[0m\u001b[0;34m\u001b[0m\u001b[0m\n\u001b[1;32m     14\u001b[0m         \u001b[0;31m## add contact\u001b[0m\u001b[0;34m\u001b[0m\u001b[0;34m\u001b[0m\u001b[0m\n",
            "\u001b[0;32m/usr/local/lib/python3.12/dist-packages/ipykernel/kernelbase.py\u001b[0m in \u001b[0;36mraw_input\u001b[0;34m(self, prompt)\u001b[0m\n\u001b[1;32m   1175\u001b[0m                 \u001b[0;34m\"raw_input was called, but this frontend does not support input requests.\"\u001b[0m\u001b[0;34m\u001b[0m\u001b[0;34m\u001b[0m\u001b[0m\n\u001b[1;32m   1176\u001b[0m             )\n\u001b[0;32m-> 1177\u001b[0;31m         return self._input_request(\n\u001b[0m\u001b[1;32m   1178\u001b[0m             \u001b[0mstr\u001b[0m\u001b[0;34m(\u001b[0m\u001b[0mprompt\u001b[0m\u001b[0;34m)\u001b[0m\u001b[0;34m,\u001b[0m\u001b[0;34m\u001b[0m\u001b[0;34m\u001b[0m\u001b[0m\n\u001b[1;32m   1179\u001b[0m             \u001b[0mself\u001b[0m\u001b[0;34m.\u001b[0m\u001b[0m_parent_ident\u001b[0m\u001b[0;34m[\u001b[0m\u001b[0;34m\"shell\"\u001b[0m\u001b[0;34m]\u001b[0m\u001b[0;34m,\u001b[0m\u001b[0;34m\u001b[0m\u001b[0;34m\u001b[0m\u001b[0m\n",
            "\u001b[0;32m/usr/local/lib/python3.12/dist-packages/ipykernel/kernelbase.py\u001b[0m in \u001b[0;36m_input_request\u001b[0;34m(self, prompt, ident, parent, password)\u001b[0m\n\u001b[1;32m   1217\u001b[0m             \u001b[0;32mexcept\u001b[0m \u001b[0mKeyboardInterrupt\u001b[0m\u001b[0;34m:\u001b[0m\u001b[0;34m\u001b[0m\u001b[0;34m\u001b[0m\u001b[0m\n\u001b[1;32m   1218\u001b[0m                 \u001b[0;31m# re-raise KeyboardInterrupt, to truncate traceback\u001b[0m\u001b[0;34m\u001b[0m\u001b[0;34m\u001b[0m\u001b[0m\n\u001b[0;32m-> 1219\u001b[0;31m                 \u001b[0;32mraise\u001b[0m \u001b[0mKeyboardInterrupt\u001b[0m\u001b[0;34m(\u001b[0m\u001b[0;34m\"Interrupted by user\"\u001b[0m\u001b[0;34m)\u001b[0m \u001b[0;32mfrom\u001b[0m \u001b[0;32mNone\u001b[0m\u001b[0;34m\u001b[0m\u001b[0;34m\u001b[0m\u001b[0m\n\u001b[0m\u001b[1;32m   1220\u001b[0m             \u001b[0;32mexcept\u001b[0m \u001b[0mException\u001b[0m\u001b[0;34m:\u001b[0m\u001b[0;34m\u001b[0m\u001b[0;34m\u001b[0m\u001b[0m\n\u001b[1;32m   1221\u001b[0m                 \u001b[0mself\u001b[0m\u001b[0;34m.\u001b[0m\u001b[0mlog\u001b[0m\u001b[0;34m.\u001b[0m\u001b[0mwarning\u001b[0m\u001b[0;34m(\u001b[0m\u001b[0;34m\"Invalid Message:\"\u001b[0m\u001b[0;34m,\u001b[0m \u001b[0mexc_info\u001b[0m\u001b[0;34m=\u001b[0m\u001b[0;32mTrue\u001b[0m\u001b[0;34m)\u001b[0m\u001b[0;34m\u001b[0m\u001b[0;34m\u001b[0m\u001b[0m\n",
            "\u001b[0;31mKeyboardInterrupt\u001b[0m: Interrupted by user"
          ]
        }
      ],
      "source": [
        "from IPython.display import clear_output\n",
        "\n",
        "while True:\n",
        "\n",
        "    ## show all contacts\n",
        "    contacts = [\n",
        "    {\"Name\":'Rahul','Number':234567890,'Email':\"rahul@gmail.com\"},\n",
        "    {\"Name\" : \"shubham\",\"Number\":9876543132,\"Email\":\"shubh@gmail.com\"},\n",
        "    {\"Name\" :\"Akash\",\"Number\":234567890,\"Email\":\"akash@gmail.com\"}\n",
        "    ]\n",
        "\n",
        "    action = input(\"Press 'a' - add contact, 'o' - open contact, 's' - search contact, 'q' - quit\")\n",
        "    if action == 'a':\n",
        "        ## add contact\n",
        "        add_contact(contacts)\n",
        "\n",
        "    elif action == 'o':\n",
        "      name = input(\"Enter name of the contact you want to open. \")\n",
        "        ## open contact\n",
        "      open_contact(contacts,name)\n",
        "\n",
        "    elif action == 'q':\n",
        "      break\n",
        "        ## break|\n",
        "\n",
        "    else:\n",
        "        ## print incorrect choice\n",
        "        print(\"incorrect choice\")"
      ]
    },
    {
      "cell_type": "markdown",
      "metadata": {
        "id": "wWXk9HpzDltA"
      },
      "source": [
        "## Using files\n",
        "\n",
        "One major problem with the above approach is \"persistent storage\". Every time you close this notebook, all the new contacts are lost. This happens because `contacts` is a python variable. Its lives inside python session. As soon as the session is killed/terminated, all the varibles are also deleted.\n",
        "\n",
        "To address this problem, we will have to use save the contacts in a disk. What better reason to use files? Instead of using *list of dictionary*, use file to save the contacts.\n",
        "\n",
        "Save every new contact in a new-line and use \" , \" to separate the contact fields. This is how the above contacts should look, when saved in a file.\n",
        "\n",
        "```text\n",
        "vivek, vivek@gmail.com, 9921668254\n",
        "ankur, ankur@gmail.com, 8806807004\n",
        "pranav, pranav@gmail.com, 987654321\n",
        "```\n",
        "\n",
        "You task is to make appropriate changes to the above code to use `contacts.txt` instead of using `contacts` list."
      ]
    },
    {
      "cell_type": "markdown",
      "metadata": {
        "id": "MjeKQG47DltA"
      },
      "source": [
        "## Using Regex\n",
        "\n",
        "Yet another problem with our app is \"lack of validation\". While creating a new contact, user is free to enter anything. But why is that a problem?\n",
        "\n",
        "**Input validation** is important to ensure only properly formed data is entering the workflow in an information system, preventing malformed data from persisting in the database and triggering malfunction of various downstream components. Input validation should happen as early as possible in the data flow, preferably as soon as the data is received. [source](https://cheatsheetseries.owasp.org/cheatsheets/Input_Validation_Cheat_Sheet.html)\n",
        "\n",
        "The above paragraph is the complete gist of Input validation. Read it again & ponder for a minute. Its an important concept when building customer facing applications. We would highly recommend you to Google and read more about it.  \n",
        "\n",
        "Use regular expression to validate user input (before you save it to the file). Implement the following:\n",
        "- `Name` should be all alphabets. \" \" should also be allowed.\n",
        "- For `email` refer regex chapter from course material.\n",
        "- `Number` should have 10 digits. Not less, not more. Also, not alphabets should be allowed.\n",
        "- Add a new field `DOB` to each contact. It should follow YYYY-MM-DD format. Then write a regular expression to validate it. Remember, date & month cannot be greater that 31 & 12, respectively.\n",
        "\n",
        "Can you think of any more validations?"
      ]
    },
    {
      "cell_type": "markdown",
      "metadata": {
        "id": "tlfxpDrADltB"
      },
      "source": [
        "We really hope you had a wonderful time building this applications. This is how applications are developed in really life. You start with a set of basic functionalities and then you keep adding new features (like persistent storage & validation). As the application grows in size, you might encounter new problems to solve."
      ]
    }
  ],
  "metadata": {
    "kernelspec": {
      "display_name": "Python 3",
      "language": "python",
      "name": "python3"
    },
    "language_info": {
      "codemirror_mode": {
        "name": "ipython",
        "version": 3
      },
      "file_extension": ".py",
      "mimetype": "text/x-python",
      "name": "python",
      "nbconvert_exporter": "python",
      "pygments_lexer": "ipython3",
      "version": "3.7.4"
    },
    "toc": {
      "base_numbering": 1,
      "nav_menu": {},
      "number_sections": true,
      "sideBar": true,
      "skip_h1_title": false,
      "title_cell": "Table of Contents",
      "title_sidebar": "Contents",
      "toc_cell": false,
      "toc_position": {},
      "toc_section_display": true,
      "toc_window_display": false
    },
    "colab": {
      "provenance": [],
      "include_colab_link": true
    }
  },
  "nbformat": 4,
  "nbformat_minor": 0
}